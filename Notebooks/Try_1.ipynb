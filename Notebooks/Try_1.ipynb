{
  "cells": [
    {
      "cell_type": "code",
      "execution_count": 77,
      "id": "246a104e",
      "metadata": {
        "id": "246a104e"
      },
      "outputs": [],
      "source": [
        "import numpy as np\n",
        "import pandas as pd\n",
        "import matplotlib.pyplot as plt\n",
        "import re \n",
        "from sklearn.linear_model import LinearRegression\n",
        "from sklearn.model_selection import train_test_split\n"
      ]
    },
    {
      "cell_type": "code",
      "execution_count": 49,
      "id": "ccb1f718",
      "metadata": {
        "colab": {
          "base_uri": "https://localhost:8080/",
          "height": 268
        },
        "id": "ccb1f718",
        "outputId": "0be5c510-faa9-4f68-e0a2-b87171d6ab70"
      },
      "outputs": [
        {
          "output_type": "stream",
          "name": "stdout",
          "text": [
            "(2278, 10)\n"
          ]
        },
        {
          "output_type": "execute_result",
          "data": {
            "text/plain": [
              "   id       name  cost_price  selling_price  variant stock manufacture_date  \\\n",
              "0   0    Shampoo         179            189   340 ml   230       11-10-2020   \n",
              "1   1  Body_Wash         200            360   800 ml   491       12-10-2020   \n",
              "2   2        Oil         167            180      1 L   783       13-10-2020   \n",
              "3   3      Besan          19             64    500 g   793       14-10-2020   \n",
              "4   4    Colgate          75             99     10 g   817       15-10-2020   \n",
              "\n",
              "  expiry_date  best_before_months  expiry_in_months  \n",
              "0  12-10-2021                   9                 3  \n",
              "1  13-10-2022                  24                 9  \n",
              "2  14-10-2021                   9                 2  \n",
              "3  15-10-2021                   6                 1  \n",
              "4  16-10-2022                  24                 3  "
            ],
            "text/html": [
              "\n",
              "  <div id=\"df-1d7e8059-fd76-42d2-9088-6710adfd5ba5\">\n",
              "    <div class=\"colab-df-container\">\n",
              "      <div>\n",
              "<style scoped>\n",
              "    .dataframe tbody tr th:only-of-type {\n",
              "        vertical-align: middle;\n",
              "    }\n",
              "\n",
              "    .dataframe tbody tr th {\n",
              "        vertical-align: top;\n",
              "    }\n",
              "\n",
              "    .dataframe thead th {\n",
              "        text-align: right;\n",
              "    }\n",
              "</style>\n",
              "<table border=\"1\" class=\"dataframe\">\n",
              "  <thead>\n",
              "    <tr style=\"text-align: right;\">\n",
              "      <th></th>\n",
              "      <th>id</th>\n",
              "      <th>name</th>\n",
              "      <th>cost_price</th>\n",
              "      <th>selling_price</th>\n",
              "      <th>variant</th>\n",
              "      <th>stock</th>\n",
              "      <th>manufacture_date</th>\n",
              "      <th>expiry_date</th>\n",
              "      <th>best_before_months</th>\n",
              "      <th>expiry_in_months</th>\n",
              "    </tr>\n",
              "  </thead>\n",
              "  <tbody>\n",
              "    <tr>\n",
              "      <th>0</th>\n",
              "      <td>0</td>\n",
              "      <td>Shampoo</td>\n",
              "      <td>179</td>\n",
              "      <td>189</td>\n",
              "      <td>340 ml</td>\n",
              "      <td>230</td>\n",
              "      <td>11-10-2020</td>\n",
              "      <td>12-10-2021</td>\n",
              "      <td>9</td>\n",
              "      <td>3</td>\n",
              "    </tr>\n",
              "    <tr>\n",
              "      <th>1</th>\n",
              "      <td>1</td>\n",
              "      <td>Body_Wash</td>\n",
              "      <td>200</td>\n",
              "      <td>360</td>\n",
              "      <td>800 ml</td>\n",
              "      <td>491</td>\n",
              "      <td>12-10-2020</td>\n",
              "      <td>13-10-2022</td>\n",
              "      <td>24</td>\n",
              "      <td>9</td>\n",
              "    </tr>\n",
              "    <tr>\n",
              "      <th>2</th>\n",
              "      <td>2</td>\n",
              "      <td>Oil</td>\n",
              "      <td>167</td>\n",
              "      <td>180</td>\n",
              "      <td>1 L</td>\n",
              "      <td>783</td>\n",
              "      <td>13-10-2020</td>\n",
              "      <td>14-10-2021</td>\n",
              "      <td>9</td>\n",
              "      <td>2</td>\n",
              "    </tr>\n",
              "    <tr>\n",
              "      <th>3</th>\n",
              "      <td>3</td>\n",
              "      <td>Besan</td>\n",
              "      <td>19</td>\n",
              "      <td>64</td>\n",
              "      <td>500 g</td>\n",
              "      <td>793</td>\n",
              "      <td>14-10-2020</td>\n",
              "      <td>15-10-2021</td>\n",
              "      <td>6</td>\n",
              "      <td>1</td>\n",
              "    </tr>\n",
              "    <tr>\n",
              "      <th>4</th>\n",
              "      <td>4</td>\n",
              "      <td>Colgate</td>\n",
              "      <td>75</td>\n",
              "      <td>99</td>\n",
              "      <td>10 g</td>\n",
              "      <td>817</td>\n",
              "      <td>15-10-2020</td>\n",
              "      <td>16-10-2022</td>\n",
              "      <td>24</td>\n",
              "      <td>3</td>\n",
              "    </tr>\n",
              "  </tbody>\n",
              "</table>\n",
              "</div>\n",
              "      <button class=\"colab-df-convert\" onclick=\"convertToInteractive('df-1d7e8059-fd76-42d2-9088-6710adfd5ba5')\"\n",
              "              title=\"Convert this dataframe to an interactive table.\"\n",
              "              style=\"display:none;\">\n",
              "        \n",
              "  <svg xmlns=\"http://www.w3.org/2000/svg\" height=\"24px\"viewBox=\"0 0 24 24\"\n",
              "       width=\"24px\">\n",
              "    <path d=\"M0 0h24v24H0V0z\" fill=\"none\"/>\n",
              "    <path d=\"M18.56 5.44l.94 2.06.94-2.06 2.06-.94-2.06-.94-.94-2.06-.94 2.06-2.06.94zm-11 1L8.5 8.5l.94-2.06 2.06-.94-2.06-.94L8.5 2.5l-.94 2.06-2.06.94zm10 10l.94 2.06.94-2.06 2.06-.94-2.06-.94-.94-2.06-.94 2.06-2.06.94z\"/><path d=\"M17.41 7.96l-1.37-1.37c-.4-.4-.92-.59-1.43-.59-.52 0-1.04.2-1.43.59L10.3 9.45l-7.72 7.72c-.78.78-.78 2.05 0 2.83L4 21.41c.39.39.9.59 1.41.59.51 0 1.02-.2 1.41-.59l7.78-7.78 2.81-2.81c.8-.78.8-2.07 0-2.86zM5.41 20L4 18.59l7.72-7.72 1.47 1.35L5.41 20z\"/>\n",
              "  </svg>\n",
              "      </button>\n",
              "      \n",
              "  <style>\n",
              "    .colab-df-container {\n",
              "      display:flex;\n",
              "      flex-wrap:wrap;\n",
              "      gap: 12px;\n",
              "    }\n",
              "\n",
              "    .colab-df-convert {\n",
              "      background-color: #E8F0FE;\n",
              "      border: none;\n",
              "      border-radius: 50%;\n",
              "      cursor: pointer;\n",
              "      display: none;\n",
              "      fill: #1967D2;\n",
              "      height: 32px;\n",
              "      padding: 0 0 0 0;\n",
              "      width: 32px;\n",
              "    }\n",
              "\n",
              "    .colab-df-convert:hover {\n",
              "      background-color: #E2EBFA;\n",
              "      box-shadow: 0px 1px 2px rgba(60, 64, 67, 0.3), 0px 1px 3px 1px rgba(60, 64, 67, 0.15);\n",
              "      fill: #174EA6;\n",
              "    }\n",
              "\n",
              "    [theme=dark] .colab-df-convert {\n",
              "      background-color: #3B4455;\n",
              "      fill: #D2E3FC;\n",
              "    }\n",
              "\n",
              "    [theme=dark] .colab-df-convert:hover {\n",
              "      background-color: #434B5C;\n",
              "      box-shadow: 0px 1px 3px 1px rgba(0, 0, 0, 0.15);\n",
              "      filter: drop-shadow(0px 1px 2px rgba(0, 0, 0, 0.3));\n",
              "      fill: #FFFFFF;\n",
              "    }\n",
              "  </style>\n",
              "\n",
              "      <script>\n",
              "        const buttonEl =\n",
              "          document.querySelector('#df-1d7e8059-fd76-42d2-9088-6710adfd5ba5 button.colab-df-convert');\n",
              "        buttonEl.style.display =\n",
              "          google.colab.kernel.accessAllowed ? 'block' : 'none';\n",
              "\n",
              "        async function convertToInteractive(key) {\n",
              "          const element = document.querySelector('#df-1d7e8059-fd76-42d2-9088-6710adfd5ba5');\n",
              "          const dataTable =\n",
              "            await google.colab.kernel.invokeFunction('convertToInteractive',\n",
              "                                                     [key], {});\n",
              "          if (!dataTable) return;\n",
              "\n",
              "          const docLinkHtml = 'Like what you see? Visit the ' +\n",
              "            '<a target=\"_blank\" href=https://colab.research.google.com/notebooks/data_table.ipynb>data table notebook</a>'\n",
              "            + ' to learn more about interactive tables.';\n",
              "          element.innerHTML = '';\n",
              "          dataTable['output_type'] = 'display_data';\n",
              "          await google.colab.output.renderOutput(dataTable, element);\n",
              "          const docLink = document.createElement('div');\n",
              "          docLink.innerHTML = docLinkHtml;\n",
              "          element.appendChild(docLink);\n",
              "        }\n",
              "      </script>\n",
              "    </div>\n",
              "  </div>\n",
              "  "
            ]
          },
          "metadata": {},
          "execution_count": 49
        }
      ],
      "source": [
        "data = pd.read_csv('test_datasetOG.csv')\n",
        "print(data.shape)\n",
        "data.head()"
      ]
    },
    {
      "cell_type": "code",
      "execution_count": 41,
      "id": "3d60d0a8",
      "metadata": {
        "id": "3d60d0a8",
        "outputId": "679ae3ab-6998-4a05-ff35-5e549a0dd606",
        "colab": {
          "base_uri": "https://localhost:8080/"
        }
      },
      "outputs": [
        {
          "output_type": "stream",
          "name": "stdout",
          "text": [
            "(2278,)\n",
            "(976,) y\n"
          ]
        }
      ],
      "source": [
        "x= data['expiry_in_months'].values\n",
        "#y=data['selling_price'].values\n",
        "print(x.shape)\n",
        "print(y.shape,'y')"
      ]
    },
    {
      "cell_type": "code",
      "execution_count": 4,
      "id": "ba172cad",
      "metadata": {
        "id": "ba172cad",
        "outputId": "a6a78ced-5b7d-4b08-ac44-5b8972d1f480",
        "colab": {
          "base_uri": "https://localhost:8080/"
        }
      },
      "outputs": [
        {
          "output_type": "stream",
          "name": "stdout",
          "text": [
            "3.114705502689951 265.31830587886293\n"
          ]
        }
      ],
      "source": [
        "mean_x=np.mean(x)\n",
        "mean_y=np.mean(y)\n",
        "\n",
        "n= len(x)\n",
        "\n",
        "num=0\n",
        "den=0\n",
        "for i in range(n):\n",
        "    num +=(x[i]-mean_x)*(y[i]-mean_y)\n",
        "    den += (x[i]-mean_x)**2\n",
        "b1= num/den\n",
        "b0=mean_y-(b1*mean_x)\n",
        "\n",
        "print(b1,b0)"
      ]
    },
    {
      "cell_type": "code",
      "execution_count": 5,
      "id": "923cf39f",
      "metadata": {
        "id": "923cf39f",
        "outputId": "e9d57919-e51d-43b3-a2a7-9dc82e2c4c73",
        "colab": {
          "base_uri": "https://localhost:8080/",
          "height": 279
        }
      },
      "outputs": [
        {
          "output_type": "display_data",
          "data": {
            "text/plain": [
              "<Figure size 432x288 with 1 Axes>"
            ],
            "image/png": "[encoded data removed]"
          },
          "metadata": {
            "needs_background": "light"
          }
        }
      ],
      "source": [
        "max_x =np.max(x)+100\n",
        "min_x = np.min(x)-100\n",
        "\n",
        "x1=np.linspace(min_x,max_x,1000)\n",
        "\n",
        "y1=b0+b1*x\n",
        "\n",
        "#plt.plot(x1,y1, colour='#58b970', label='Regression Line')\n",
        "plt.scatter(x,y, color='#ef5423', label='Scatter plot')\n",
        "\n",
        "plt.xlabel('items')\n",
        "plt.ylabel('selling_price')\n",
        "plt.legend()\n",
        "plt.show()\n"
      ]
    },
    {
      "cell_type": "code",
      "execution_count": 52,
      "id": "b7f7f7f0",
      "metadata": {
        "id": "b7f7f7f0"
      },
      "outputs": [],
      "source": [
        "data=data[pd.to_numeric(data['stock'], errors='coerce').notnull()]\n",
        "data=data[pd.to_numeric(data['cost_price'], errors='coerce').notnull()]\n",
        "data=data[pd.to_numeric(data['selling_price'], errors='coerce').notnull()]\n",
        "#data=data[pd.to_numeric(data['variant'], errors='coerce').notnull()]\n",
        "data=data[pd.to_numeric(data['best_before_months'], errors='coerce').notnull()]\n",
        "data=data[pd.to_numeric(data['expiry_in_months'], errors='coerce').notnull()]\n",
        "\n",
        "data['variant']=data['variant'].apply(lambda x: re.sub(\"[^0-9]\", \"\", str(x))) #remove non numeric parts"
      ]
    },
    {
      "cell_type": "code",
      "source": [
        "X=data.iloc[:,2:10]\n",
        "X=X.drop(labels={'manufacture_date','expiry_date','selling_price'},axis=1)\n",
        "y=data['selling_price']\n",
        "display(y)"
      ],
      "metadata": {
        "id": "NmNnIzwCubXt",
        "colab": {
          "base_uri": "https://localhost:8080/",
          "height": 231
        },
        "outputId": "349582a0-6c08-4468-b946-2bbb2770dafc"
      },
      "id": "NmNnIzwCubXt",
      "execution_count": 63,
      "outputs": [
        {
          "output_type": "display_data",
          "data": {
            "text/plain": [
              "0       189\n",
              "1       360\n",
              "2       180\n",
              "3        64\n",
              "4        99\n",
              "       ... \n",
              "1004    360\n",
              "1005     50\n",
              "1006    200\n",
              "1007     20\n",
              "1008    350\n",
              "Name: selling_price, Length: 976, dtype: int64"
            ]
          },
          "metadata": {}
        }
      ]
    },
    {
      "cell_type": "code",
      "source": [
        "X_train, X_test, y_train, y_test = train_test_split(X, y, random_state=0)"
      ],
      "metadata": {
        "id": "vpFtt7waoDQ2"
      },
      "id": "vpFtt7waoDQ2",
      "execution_count": 78,
      "outputs": []
    },
    {
      "cell_type": "code",
      "source": [
        "model = LinearRegression()\n",
        "model.fit(X_train,y_train)"
      ],
      "metadata": {
        "colab": {
          "base_uri": "https://localhost:8080/"
        },
        "id": "eN3DPgnhqVCu",
        "outputId": "a4d7a517-558b-4e9a-b87f-22a263205e5d"
      },
      "id": "eN3DPgnhqVCu",
      "execution_count": 79,
      "outputs": [
        {
          "output_type": "execute_result",
          "data": {
            "text/plain": [
              "LinearRegression()"
            ]
          },
          "metadata": {},
          "execution_count": 79
        }
      ]
    },
    {
      "cell_type": "code",
      "source": [
        "model.predict([[676,600,65,6,7],[150,600,6,12,7]])"
      ],
      "metadata": {
        "colab": {
          "base_uri": "https://localhost:8080/"
        },
        "id": "qRkk8gm_kWNN",
        "outputId": "180c73da-0951-46e9-892f-ca0d2d5543b3"
      },
      "id": "qRkk8gm_kWNN",
      "execution_count": 80,
      "outputs": [
        {
          "output_type": "stream",
          "name": "stderr",
          "text": [
            "/usr/local/lib/python3.7/dist-packages/sklearn/base.py:451: UserWarning: X does not have valid feature names, but LinearRegression was fitted with feature names\n",
            "  \"X does not have valid feature names, but\"\n"
          ]
        },
        {
          "output_type": "execute_result",
          "data": {
            "text/plain": [
              "array([882.69674821, 203.30784089])"
            ]
          },
          "metadata": {},
          "execution_count": 80
        }
      ]
    }
  ],
  "metadata": {
    "kernelspec": {
      "display_name": "Python 3 (ipykernel)",
      "language": "python",
      "name": "python3"
    },
    "language_info": {
      "codemirror_mode": {
        "name": "ipython",
        "version": 3
      },
      "file_extension": ".py",
      "mimetype": "text/x-python",
      "name": "python",
      "nbconvert_exporter": "python",
      "pygments_lexer": "ipython3",
      "version": "3.10.0"
    },
    "colab": {
      "provenance": []
    }
  },
  "nbformat": 4,
  "nbformat_minor": 5
}